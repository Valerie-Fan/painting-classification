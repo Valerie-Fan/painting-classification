{
  "nbformat": 4,
  "nbformat_minor": 0,
  "metadata": {
    "colab": {
      "provenance": [],
      "machine_shape": "hm",
      "gpuType": "V28",
      "authorship_tag": "ABX9TyNkal1JmLy3ZReKRRaVM7Gr",
      "include_colab_link": true
    },
    "kernelspec": {
      "name": "python3",
      "display_name": "Python 3"
    },
    "language_info": {
      "name": "python"
    },
    "accelerator": "TPU"
  },
  "cells": [
    {
      "cell_type": "markdown",
      "metadata": {
        "id": "view-in-github",
        "colab_type": "text"
      },
      "source": [
        "<a href=\"https://colab.research.google.com/github/Valerie-Fan/painting-classification/blob/main/painting_classification.ipynb\" target=\"_parent\"><img src=\"https://colab.research.google.com/assets/colab-badge.svg\" alt=\"Open In Colab\"/></a>"
      ]
    },
    {
      "cell_type": "markdown",
      "source": [
        "## Setup"
      ],
      "metadata": {
        "id": "p1lidnze0R3Z"
      }
    },
    {
      "cell_type": "code",
      "source": [
        "!git clone https://github.com/ultralytics/yolov5  # clone\n",
        "%cd yolov5\n",
        "%pip install -qr requirements.txt  # install\n",
        "\n",
        "import torch\n",
        "import utils\n",
        "display = utils.notebook_init()  # checks"
      ],
      "metadata": {
        "colab": {
          "base_uri": "https://localhost:8080/"
        },
        "id": "-b7lDG1LyROE",
        "outputId": "c4c25ad0-af0e-4740-b38c-537468931854"
      },
      "execution_count": null,
      "outputs": [
        {
          "output_type": "stream",
          "name": "stderr",
          "text": [
            "YOLOv5 🚀 v7.0-306-gb599ae42 Python-3.10.12 torch-2.2.0+cpu CPU\n"
          ]
        },
        {
          "output_type": "stream",
          "name": "stdout",
          "text": [
            "Setup complete ✅ (96 CPUs, 334.6 GB RAM, 15.7/225.3 GB disk)\n"
          ]
        }
      ]
    },
    {
      "cell_type": "markdown",
      "source": [
        "## Preparing Dataset"
      ],
      "metadata": {
        "id": "t964C7dY0Ulu"
      }
    },
    {
      "cell_type": "code",
      "source": [
        "# ensure we're in the right directory to download our custom dataset\n",
        "import os\n",
        "os.makedirs(\"../datasets/\", exist_ok=True)\n",
        "%cd ../datasets/"
      ],
      "metadata": {
        "colab": {
          "base_uri": "https://localhost:8080/"
        },
        "id": "6NDIP3hr0XT0",
        "outputId": "a00c6aed-5b1c-499c-c8e6-647c55365191"
      },
      "execution_count": null,
      "outputs": [
        {
          "output_type": "stream",
          "name": "stdout",
          "text": [
            "/content/datasets\n"
          ]
        }
      ]
    },
    {
      "cell_type": "code",
      "execution_count": null,
      "metadata": {
        "colab": {
          "base_uri": "https://localhost:8080/"
        },
        "id": "MB1GvUuRx-yX",
        "outputId": "8a6765eb-d91b-4f48-a365-562d0e47c296"
      },
      "outputs": [
        {
          "output_type": "stream",
          "name": "stdout",
          "text": [
            "loading Roboflow workspace...\n",
            "loading Roboflow project...\n"
          ]
        },
        {
          "output_type": "stream",
          "name": "stderr",
          "text": [
            "Downloading Dataset Version Zip in wikiart-v4-1 to folder:: 100%|██████████| 167845/167845 [00:02<00:00, 69083.97it/s]"
          ]
        },
        {
          "output_type": "stream",
          "name": "stdout",
          "text": [
            "\n"
          ]
        },
        {
          "output_type": "stream",
          "name": "stderr",
          "text": [
            "\n",
            "Extracting Dataset Version Zip to wikiart-v4-1 in folder:: 100%|██████████| 3964/3964 [00:00<00:00, 5785.11it/s]\n"
          ]
        }
      ],
      "source": [
        "from roboflow import Roboflow\n",
        "rf = Roboflow(api_key=\"ISPQWm6pzaN1orqr2nuk\")\n",
        "project = rf.workspace(\"wikiart-v4\").project(\"wikiart-v4\")\n",
        "version = project.version(1)\n",
        "dataset = version.download(\"folder\")"
      ]
    },
    {
      "cell_type": "code",
      "source": [
        "# save the dataset name to the environment so we can use it in a system call later\n",
        "dataset_name = dataset.location.split(os.sep)[-1]\n",
        "os.environ[\"DATASET_NAME\"] = dataset_name"
      ],
      "metadata": {
        "id": "Zb1XrL7vzQhk"
      },
      "execution_count": null,
      "outputs": []
    },
    {
      "cell_type": "markdown",
      "source": [
        "## Training"
      ],
      "metadata": {
        "id": "Qv0EEZ6c0sKH"
      }
    },
    {
      "cell_type": "code",
      "source": [
        "%cd ../yolov5\n",
        "!python classify/train.py --model yolov5s-cls.pt --data $DATASET_NAME --epochs 100 --img 128 --pretrained weights/yolov5s-cls.pt"
      ],
      "metadata": {
        "colab": {
          "base_uri": "https://localhost:8080/"
        },
        "id": "VCwIMbGe0EM0",
        "outputId": "3f2697d5-7128-4e08-f38f-0cec80bb9a05"
      },
      "execution_count": null,
      "outputs": [
        {
          "output_type": "stream",
          "name": "stdout",
          "text": [
            "/content/yolov5\n",
            "/usr/local/lib/python3.10/dist-packages/jax/_src/cloud_tpu_init.py:73: UserWarning: JAX_USE_PJRT_C_API_ON_TPU no longer has an effect (the new TPU runtime is always enabled now). Unset the environment variable to disable this warning.\n",
            "  warnings.warn(\n",
            "\u001b[34m\u001b[1mclassify/train: \u001b[0mmodel=yolov5s-cls.pt, data=wikiart-v4-1, epochs=100, batch_size=64, imgsz=128, nosave=False, cache=None, device=, workers=8, project=runs/train-cls, name=exp, exist_ok=False, pretrained=weights/yolov5s-cls.pt, optimizer=Adam, lr0=0.001, decay=5e-05, label_smoothing=0.1, cutoff=None, dropout=None, verbose=False, seed=0, local_rank=-1\n",
            "\u001b[34m\u001b[1mgithub: \u001b[0mup to date with https://github.com/ultralytics/yolov5 ✅\n",
            "YOLOv5 🚀 v7.0-306-gb599ae42 Python-3.10.12 torch-2.2.0+cpu CPU\n",
            "\n",
            "\u001b[34m\u001b[1mTensorBoard: \u001b[0mStart with 'tensorboard --logdir runs/train-cls', view at http://localhost:6006/\n",
            "\u001b[34m\u001b[1malbumentations: \u001b[0m⚠️ not found, install with `pip install albumentations` (recommended)\n",
            "Downloading https://github.com/ultralytics/yolov5/releases/download/v7.0/yolov5s-cls.pt to yolov5s-cls.pt...\n",
            "100% 10.5M/10.5M [00:00<00:00, 118MB/s]\n",
            "\n",
            "Model summary: 149 layers, 4187852 parameters, 4187852 gradients, 10.5 GFLOPs\n",
            "\u001b[34m\u001b[1moptimizer:\u001b[0m Adam(lr=0.001) with parameter groups 32 weight(decay=0.0), 33 weight(decay=5e-05), 33 bias\n",
            "Image sizes 128 train, 128 test\n",
            "Using 8 dataloader workers\n",
            "Logging results to \u001b[1mruns/train-cls/exp\u001b[0m\n",
            "Starting yolov5s-cls.pt training on wikiart-v4-1 dataset with 12 classes for 100 epochs...\n",
            "\n",
            "     Epoch   GPU_mem  train_loss   test_loss    top1_acc    top5_acc\n",
            "     1/100        0G        2.37        2.43       0.135       0.613: 100% 35/35 [00:11<00:00,  2.92it/s]\n",
            "     2/100        0G        2.25        2.44       0.122       0.618: 100% 35/35 [00:12<00:00,  2.82it/s]\n",
            "     3/100        0G        2.21         2.4       0.139       0.712: 100% 35/35 [00:12<00:00,  2.77it/s]\n",
            "     4/100        0G         2.2        2.44       0.142        0.63: 100% 35/35 [00:12<00:00,  2.80it/s]\n",
            "     5/100        0G         2.2        2.62       0.155       0.687: 100% 35/35 [00:12<00:00,  2.76it/s]\n",
            "     6/100        0G        2.19        2.65        0.13       0.599: 100% 35/35 [00:13<00:00,  2.69it/s]\n",
            "     7/100        0G        2.17        2.51       0.175       0.649: 100% 35/35 [00:12<00:00,  2.71it/s]\n",
            "     8/100        0G        2.15        2.56       0.176       0.632: 100% 35/35 [00:12<00:00,  2.78it/s]\n",
            "     9/100        0G        2.14        2.52       0.176       0.681: 100% 35/35 [00:12<00:00,  2.73it/s]\n",
            "    10/100        0G        2.11        2.66       0.133       0.618: 100% 35/35 [00:12<00:00,  2.75it/s]\n",
            "    11/100        0G        2.08        2.61        0.17       0.596: 100% 35/35 [00:12<00:00,  2.82it/s]\n",
            "    12/100        0G        2.06        2.49       0.156       0.669: 100% 35/35 [00:12<00:00,  2.74it/s]\n",
            "    13/100        0G        2.01        3.53       0.156       0.557: 100% 35/35 [00:12<00:00,  2.71it/s]\n",
            "    14/100        0G        1.98        2.57       0.163       0.584: 100% 35/35 [00:12<00:00,  2.70it/s]\n",
            "    15/100        0G        1.95        2.68       0.186       0.624: 100% 35/35 [00:12<00:00,  2.77it/s]\n",
            "    16/100        0G         1.9        2.83       0.159       0.608: 100% 35/35 [00:13<00:00,  2.67it/s]\n",
            "    17/100        0G        1.85        2.85       0.146       0.636: 100% 35/35 [00:13<00:00,  2.69it/s]\n",
            "    18/100        0G        1.76        2.49       0.142       0.571: 100% 35/35 [00:12<00:00,  2.82it/s]\n",
            "    19/100        0G        1.67        3.18       0.142       0.627: 100% 35/35 [00:12<00:00,  2.80it/s]\n",
            "    20/100        0G         1.6        2.74       0.178       0.658: 100% 35/35 [00:12<00:00,  2.72it/s]\n",
            "    21/100        0G         1.5        3.04       0.207       0.615: 100% 35/35 [00:12<00:00,  2.72it/s]\n",
            "    22/100        0G        1.38        2.99        0.19        0.65: 100% 35/35 [00:12<00:00,  2.71it/s]\n",
            "    23/100        0G        1.25        3.14       0.211       0.611: 100% 35/35 [00:13<00:00,  2.66it/s]\n",
            "    24/100        0G        1.14        3.17       0.197       0.604: 100% 35/35 [00:12<00:00,  2.78it/s]\n",
            "    25/100        0G        1.04        3.21       0.193       0.615: 100% 35/35 [00:13<00:00,  2.63it/s]\n",
            "    26/100        0G       0.954        2.87       0.187       0.608: 100% 35/35 [00:13<00:00,  2.60it/s]\n",
            "    27/100        0G       0.841         3.1       0.212       0.653: 100% 35/35 [00:12<00:00,  2.75it/s]\n",
            "    28/100        0G       0.753         3.2       0.211       0.613: 100% 35/35 [00:12<00:00,  2.70it/s]\n",
            "    29/100        0G         0.7        2.98       0.214       0.615: 100% 35/35 [00:12<00:00,  2.71it/s]\n",
            "    30/100        0G       0.659        2.94       0.211       0.616: 100% 35/35 [00:13<00:00,  2.61it/s]\n",
            "    31/100        0G        0.63        2.78        0.22       0.646: 100% 35/35 [00:13<00:00,  2.63it/s]\n",
            "    32/100        0G       0.613        2.73       0.204       0.646: 100% 35/35 [00:13<00:00,  2.62it/s]\n",
            "    33/100        0G       0.596        2.77       0.212       0.652: 100% 35/35 [00:13<00:00,  2.64it/s]\n",
            "    34/100        0G       0.585        2.54       0.215        0.63: 100% 35/35 [00:12<00:00,  2.74it/s]\n",
            "    35/100        0G       0.578        2.71       0.209       0.636: 100% 35/35 [00:13<00:00,  2.65it/s]\n",
            "    36/100        0G       0.577        2.67       0.209       0.636: 100% 35/35 [00:13<00:00,  2.60it/s]\n",
            "    37/100        0G       0.574        2.73       0.229       0.644: 100% 35/35 [00:13<00:00,  2.65it/s]\n",
            "    38/100        0G       0.567        2.56       0.224       0.638: 100% 35/35 [00:13<00:00,  2.63it/s]\n",
            "    39/100        0G       0.566        2.54        0.22       0.641: 100% 35/35 [00:13<00:00,  2.65it/s]\n",
            "    40/100        0G       0.562        2.54       0.201       0.647: 100% 35/35 [00:13<00:00,  2.66it/s]\n",
            "    41/100        0G        0.56        2.61       0.212       0.652: 100% 35/35 [00:13<00:00,  2.66it/s]\n",
            "    42/100        0G       0.557         2.5       0.209       0.656: 100% 35/35 [00:12<00:00,  2.70it/s]\n",
            "    43/100        0G       0.557         2.5       0.217        0.63: 100% 35/35 [00:13<00:00,  2.68it/s]\n",
            "    44/100        0G       0.555        2.61        0.22       0.632: 100% 35/35 [00:13<00:00,  2.64it/s]\n",
            "    45/100        0G       0.554        2.49       0.223       0.644: 100% 35/35 [00:13<00:00,  2.66it/s]\n",
            "    46/100        0G       0.555        2.52       0.217       0.633: 100% 35/35 [00:13<00:00,  2.68it/s]\n",
            "    47/100        0G       0.555        2.63       0.224       0.638: 100% 35/35 [00:13<00:00,  2.66it/s]\n",
            "    48/100        0G       0.551        2.67       0.223       0.653: 100% 35/35 [00:13<00:00,  2.67it/s]\n",
            "    49/100        0G       0.552        2.66       0.209       0.635: 100% 35/35 [00:12<00:00,  2.69it/s]\n",
            "    50/100        0G       0.551        2.64       0.221       0.635: 100% 35/35 [00:13<00:00,  2.68it/s]\n",
            "    51/100        0G       0.548        2.55       0.228       0.622: 100% 35/35 [00:13<00:00,  2.68it/s]\n",
            "    52/100        0G       0.548        2.61       0.234       0.649: 100% 35/35 [00:13<00:00,  2.59it/s]\n",
            "    53/100        0G        0.55        2.53       0.203       0.636: 100% 35/35 [00:13<00:00,  2.65it/s]\n",
            "    54/100        0G       0.549        2.72       0.211       0.661: 100% 35/35 [00:13<00:00,  2.60it/s]\n",
            "    55/100        0G       0.547         2.7       0.214       0.644: 100% 35/35 [00:13<00:00,  2.68it/s]\n",
            "    56/100        0G       0.549        2.55       0.223       0.647: 100% 35/35 [00:13<00:00,  2.69it/s]\n",
            "    57/100        0G       0.548        2.72       0.214       0.652: 100% 35/35 [00:12<00:00,  2.72it/s]\n",
            "    58/100        0G       0.546        2.64       0.201       0.636: 100% 35/35 [00:13<00:00,  2.64it/s]\n",
            "    59/100        0G       0.546         2.6        0.22       0.642: 100% 35/35 [00:13<00:00,  2.69it/s]\n",
            "    60/100        0G       0.544        2.44       0.206       0.656: 100% 35/35 [00:12<00:00,  2.72it/s]\n",
            "    61/100        0G       0.543        2.59       0.226       0.659: 100% 35/35 [00:13<00:00,  2.64it/s]\n",
            "    62/100        0G       0.547        2.57        0.22        0.63: 100% 35/35 [00:13<00:00,  2.69it/s]\n",
            "    63/100        0G       0.545        2.74       0.214       0.635: 100% 35/35 [00:13<00:00,  2.65it/s]\n",
            "    64/100        0G       0.545        2.56       0.218       0.647: 100% 35/35 [00:13<00:00,  2.66it/s]\n",
            "    65/100        0G       0.544        2.59       0.217       0.652: 100% 35/35 [00:13<00:00,  2.54it/s]\n",
            "    66/100        0G       0.544        2.56       0.207       0.653: 100% 35/35 [00:13<00:00,  2.69it/s]\n",
            "    67/100        0G       0.541        2.61       0.214       0.646: 100% 35/35 [00:12<00:00,  2.77it/s]\n",
            "    68/100        0G       0.541        2.63       0.223        0.65: 100% 35/35 [00:13<00:00,  2.64it/s]\n",
            "    69/100        0G       0.541        2.55       0.206       0.649: 100% 35/35 [00:13<00:00,  2.64it/s]\n",
            "    70/100        0G       0.541        2.64        0.22       0.641: 100% 35/35 [00:12<00:00,  2.77it/s]\n",
            "    71/100        0G       0.543        2.48       0.224       0.655: 100% 35/35 [00:13<00:00,  2.64it/s]\n",
            "    72/100        0G       0.541        2.53       0.215       0.633: 100% 35/35 [00:12<00:00,  2.75it/s]\n",
            "    73/100        0G       0.539        2.54       0.218       0.646: 100% 35/35 [00:12<00:00,  2.77it/s]\n",
            "    74/100        0G       0.539        2.67       0.206        0.63: 100% 35/35 [00:12<00:00,  2.75it/s]\n",
            "    75/100        0G       0.539        2.67       0.212       0.644: 100% 35/35 [00:12<00:00,  2.71it/s]\n",
            "    76/100        0G       0.538        2.74       0.224       0.641: 100% 35/35 [00:13<00:00,  2.60it/s]\n",
            "    77/100        0G       0.538         2.5       0.218       0.656: 100% 35/35 [00:13<00:00,  2.61it/s]\n",
            "    78/100        0G       0.539        2.58       0.217       0.653: 100% 35/35 [00:13<00:00,  2.59it/s]\n",
            "    79/100        0G       0.538        2.56       0.218       0.641: 100% 35/35 [00:13<00:00,  2.68it/s]\n",
            "    80/100        0G       0.537        2.67       0.212        0.65: 100% 35/35 [00:13<00:00,  2.64it/s]\n",
            "    81/100        0G       0.538        2.69       0.211       0.653: 100% 35/35 [00:12<00:00,  2.71it/s]\n",
            "    82/100        0G       0.536        2.62       0.221       0.644: 100% 35/35 [00:13<00:00,  2.62it/s]\n",
            "    83/100        0G       0.536        2.57       0.212       0.642: 100% 35/35 [00:13<00:00,  2.57it/s]\n",
            "    84/100        0G       0.535        2.52       0.211        0.65: 100% 35/35 [00:13<00:00,  2.65it/s]\n",
            "    85/100        0G       0.536        2.55       0.214       0.652: 100% 35/35 [00:13<00:00,  2.67it/s]\n",
            "    86/100        0G       0.535         2.5       0.212       0.655: 100% 35/35 [00:13<00:00,  2.62it/s]\n",
            "    87/100        0G       0.536        2.63       0.215       0.641: 100% 35/35 [00:13<00:00,  2.57it/s]\n",
            "    88/100        0G       0.535        2.56       0.215       0.638: 100% 35/35 [00:13<00:00,  2.64it/s]\n",
            "    89/100        0G       0.535        2.72       0.214       0.647: 100% 35/35 [00:13<00:00,  2.66it/s]\n",
            "    90/100        0G       0.535        2.61       0.209       0.644: 100% 35/35 [00:12<00:00,  2.70it/s]\n",
            "    91/100        0G       0.535        2.58       0.218       0.638: 100% 35/35 [00:13<00:00,  2.64it/s]\n",
            "    92/100        0G       0.535         2.6       0.217       0.647: 100% 35/35 [00:13<00:00,  2.62it/s]\n",
            "    93/100        0G       0.534        2.61        0.22        0.65: 100% 35/35 [00:13<00:00,  2.68it/s]\n",
            "    94/100        0G       0.534        2.69       0.223       0.647: 100% 35/35 [00:12<00:00,  2.72it/s]\n",
            "    95/100        0G       0.534        2.68       0.214       0.632: 100% 35/35 [00:13<00:00,  2.69it/s]\n",
            "    96/100        0G       0.534        2.56       0.215       0.646: 100% 35/35 [00:12<00:00,  2.70it/s]\n",
            "    97/100        0G       0.535        2.68       0.214       0.639: 100% 35/35 [00:12<00:00,  2.74it/s]\n",
            "    98/100        0G       0.534        2.68       0.218       0.644: 100% 35/35 [00:12<00:00,  2.70it/s]\n",
            "    99/100        0G       0.533        2.51       0.215       0.646: 100% 35/35 [00:13<00:00,  2.65it/s]\n",
            "   100/100        0G       0.533        2.59       0.218       0.644: 100% 35/35 [00:13<00:00,  2.60it/s]\n",
            "\n",
            "Training complete (0.364 hours)\n",
            "Results saved to \u001b[1mruns/train-cls/exp\u001b[0m\n",
            "Predict:         python classify/predict.py --weights runs/train-cls/exp/weights/best.pt --source im.jpg\n",
            "Validate:        python classify/val.py --weights runs/train-cls/exp/weights/best.pt --data /content/datasets/wikiart-v4-1\n",
            "Export:          python export.py --weights runs/train-cls/exp/weights/best.pt --include onnx\n",
            "PyTorch Hub:     model = torch.hub.load('ultralytics/yolov5', 'custom', 'runs/train-cls/exp/weights/best.pt')\n",
            "Visualize:       https://netron.app\n",
            "\n"
          ]
        }
      ]
    },
    {
      "cell_type": "code",
      "source": [
        "# get the path of an image from the test or validation set\n",
        "if os.path.exists(os.path.join(dataset.location, \"test\")):\n",
        "  split_path = os.path.join(dataset.location, \"test\")\n",
        "else:\n",
        "  os.path.join(dataset.location, \"val\")\n",
        "example_class = os.listdir(split_path)[0]\n",
        "example_image_name = '/content/datasets/wikiart-v4-1/test/abstract/ad-reinhardt_number-107-1950_jpg.rf.fb1e8a63dd18ad5264bb2b2514635171.jpg'\n",
        "example_image_path = os.path.join(split_path, example_class, example_image_name)\n",
        "os.environ[\"TEST_IMAGE_PATH\"] = example_image_path\n",
        "\n",
        "print(f\"Inferring on an example of the class '{example_class}'\")\n",
        "\n",
        "#Infer\n",
        "!python classify/predict.py --weights runs/train-cls/exp/weights/best.pt --source $TEST_IMAGE_PATH"
      ],
      "metadata": {
        "colab": {
          "base_uri": "https://localhost:8080/"
        },
        "id": "DvzsLVOS3lVi",
        "outputId": "a043ba50-56d2-4d5b-c4c1-3aee694cb419"
      },
      "execution_count": null,
      "outputs": [
        {
          "output_type": "stream",
          "name": "stdout",
          "text": [
            "Inferring on an example of the class 'romanticism'\n",
            "/usr/local/lib/python3.10/dist-packages/jax/_src/cloud_tpu_init.py:73: UserWarning: JAX_USE_PJRT_C_API_ON_TPU no longer has an effect (the new TPU runtime is always enabled now). Unset the environment variable to disable this warning.\n",
            "  warnings.warn(\n",
            "\u001b[34m\u001b[1mclassify/predict: \u001b[0mweights=['runs/train-cls/exp/weights/best.pt'], source=/content/datasets/wikiart-v4-1/test/abstract/ad-reinhardt_number-107-1950_jpg.rf.fb1e8a63dd18ad5264bb2b2514635171.jpg, data=data/coco128.yaml, imgsz=[224, 224], device=, view_img=False, save_txt=False, nosave=False, augment=False, visualize=False, update=False, project=runs/predict-cls, name=exp, exist_ok=False, half=False, dnn=False, vid_stride=1\n",
            "YOLOv5 🚀 v7.0-306-gb599ae42 Python-3.10.12 torch-2.2.0+cpu CPU\n",
            "\n",
            "Fusing layers... \n",
            "Model summary: 117 layers, 4182060 parameters, 0 gradients, 10.4 GFLOPs\n",
            "image 1/1 /content/datasets/wikiart-v4-1/test/abstract/ad-reinhardt_number-107-1950_jpg.rf.fb1e8a63dd18ad5264bb2b2514635171.jpg: 224x224 romanticism 0.26, abstract 0.21, expressionism 0.20, cubism 0.09, impressionism 0.07, 24.1ms\n",
            "Speed: 0.0ms pre-process, 24.1ms inference, 0.1ms NMS per image at shape (1, 3, 224, 224)\n",
            "Results saved to \u001b[1mruns/predict-cls/exp\u001b[0m\n"
          ]
        }
      ]
    }
  ]
}